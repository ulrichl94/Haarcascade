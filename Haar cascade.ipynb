{
 "cells": [
  {
   "cell_type": "code",
   "execution_count": null,
   "id": "29efb08d",
   "metadata": {},
   "outputs": [],
   "source": [
    "# I needed to install the packages in Anaconda prompt terminal instead of Jupyter Notebook.\n",
    "pip install opencv-python\n",
    "pip install numpy\n",
    "pip install datetime"
   ]
  },
  {
   "cell_type": "code",
   "execution_count": 73,
   "id": "251e0d3c",
   "metadata": {},
   "outputs": [],
   "source": [
    "import cv2\n",
    "import numpy as np\n",
    "from datetime import datetime\n",
    "import os\n",
    "import pafy"
   ]
  },
  {
   "cell_type": "code",
   "execution_count": 74,
   "id": "0f853d97",
   "metadata": {},
   "outputs": [],
   "source": [
    "# Load the Haar cascade file for detecting faces (training)\n",
    "face_cascade = cv2.CascadeClassifier('haarcascade_frontalface_default.xml')\n",
    "smile_cascade = cv2.CascadeClassifier('haarcascade_smile.xml')"
   ]
  },
  {
   "cell_type": "code",
   "execution_count": 75,
   "id": "2850c119",
   "metadata": {},
   "outputs": [],
   "source": [
    "# Import the video\n",
    "video = cv2.VideoCapture('video.mp4')"
   ]
  },
  {
   "cell_type": "code",
   "execution_count": null,
   "id": "251d9ce0",
   "metadata": {},
   "outputs": [],
   "source": [
    "# Import video\n",
    "#url   = \"https://www.youtube.com/watch?v=6JE3fnRLQWw\"\n",
    "#video = pafy.new(url)\n",
    "#best  = video.getbest(preftype=\"webm\")\n",
    "\n",
    "#capture = cv2.VideoCapture(best.url)\n",
    "#check, frame = capture.read()\n",
    "#print (check, frame)"
   ]
  },
  {
   "cell_type": "code",
   "execution_count": null,
   "id": "18f2dde9",
   "metadata": {},
   "outputs": [],
   "source": [
    "# Import the video\n",
    "#video_path = os.path.join(r'C:\\Users\\Bas Opdam\\Documents\\Lotte individual assignment\\script\\video.mp4')\n",
    "#video = cv2.VideoCapture(video_path)"
   ]
  },
  {
   "cell_type": "code",
   "execution_count": 76,
   "id": "8827e367",
   "metadata": {},
   "outputs": [],
   "source": [
    "# Video frame width and heigt\n",
    "frame_widht = int(video.get(cv2.CAP_PROP_FRAME_WIDTH))\n",
    "frame_height = int(video.get(cv2.CAP_PROP_FRAME_HEIGHT))"
   ]
  },
  {
   "cell_type": "code",
   "execution_count": 77,
   "id": "bbdf308e",
   "metadata": {},
   "outputs": [],
   "source": [
    "# Define the code and create a VideoWriter object\n",
    "fourcc = cv2.VideoWriter_fourcc(*'mp4v')\n",
    "out = cv2.VideoWriter('output.mp4', fourcc, 30.0, (1280, 720))"
   ]
  },
  {
   "cell_type": "code",
   "execution_count": 78,
   "id": "c04f9f11",
   "metadata": {},
   "outputs": [
    {
     "name": "stdout",
     "output_type": "stream",
     "text": [
      "828601953.0\n"
     ]
    }
   ],
   "source": [
    "# Checking if the video is supported by OpenCV\n",
    "print(video.get(cv2.CAP_PROP_FOURCC))"
   ]
  },
  {
   "cell_type": "code",
   "execution_count": 79,
   "id": "edfbc869",
   "metadata": {},
   "outputs": [
    {
     "name": "stdout",
     "output_type": "stream",
     "text": [
      "Video is not opened\n"
     ]
    }
   ],
   "source": [
    "# Checking if the video is opened in the script\n",
    "if ret == True:\n",
    "    print(\"Video is opened\")\n",
    "else:\n",
    "    print(\"Video is not opened\")"
   ]
  },
  {
   "cell_type": "code",
   "execution_count": null,
   "id": "7872fbbe",
   "metadata": {},
   "outputs": [],
   "source": [
    "while video.isOpened():\n",
    "    # Capture frame-by-frame\n",
    "    ret, frame = video.read()\n",
    "    \n",
    "    # Convert the video into grayscale\n",
    "    gray = cv2.cvtColor(frame, cv2.COLOR_BGR2GRAY)\n",
    "    \n",
    "    # Run the Haar cascade on the grayscale image to detect faces\n",
    "    faces = face_cascade.detectMultiScale(gray)\n",
    "    \n",
    "    # Detect faces in the image\n",
    "    faces = face_cascade.detectMultiScale(\n",
    "            gray,\n",
    "            scaleFactor=1.1,\n",
    "            minNeighbors=5,\n",
    "            minSize=(30, 30))"
   ]
  },
  {
   "cell_type": "code",
   "execution_count": null,
   "id": "5366c897",
   "metadata": {},
   "outputs": [],
   "source": [
    "# Print the number of faces detected\n",
    "#p = Point(\"public-count\").tag(\"cameras\", \"entry\").field(\"people\", '{0}'.format(len(faces)))"
   ]
  },
  {
   "cell_type": "code",
   "execution_count": null,
   "id": "180d2d4e",
   "metadata": {},
   "outputs": [],
   "source": [
    "# Draw a rectangle around the faces\n",
    "for (x, y, w, h) in faces:\n",
    "    cv2.rectangle(frame, (x, y), (x+w, y+h), (255, 0, 0), 2)"
   ]
  },
  {
   "cell_type": "code",
   "execution_count": null,
   "id": "50ab8c68",
   "metadata": {},
   "outputs": [],
   "source": [
    "# Extract the face ROI\n",
    "    face_roi = gray[y:y+h, x:x+w]\n",
    "    \n",
    "    # Run Haar cascade on the face ROI to detect smiles\n",
    "    smile = smile_cascade.detectMultiScale(\n",
    "            face_roi, \n",
    "            scaleFactor=1.7,\n",
    "            minNeighbors=20,\n",
    "            minSize=(25, 25))"
   ]
  },
  {
   "cell_type": "code",
   "execution_count": null,
   "id": "7656c8cb",
   "metadata": {},
   "outputs": [],
   "source": [
    "# Draw a rectangle around the smiles\n",
    "for (sx, sy, sw, sh) in smiles:\n",
    "    cv2.rectangle(frame, (x+sx, y+sy), (x+sx+sw, y+sy+sh), (0, 0. 255), 2)"
   ]
  },
  {
   "cell_type": "code",
   "execution_count": null,
   "id": "f6d1d731",
   "metadata": {},
   "outputs": [],
   "source": [
    "# Show the detected smiles\n",
    "cv2"
   ]
  },
  {
   "cell_type": "code",
   "execution_count": null,
   "id": "9d088b80",
   "metadata": {},
   "outputs": [],
   "source": [
    "# Add the current date and time to the frame\n",
    "now = datatime.datatime.now()\n",
    "text = now.strftime(\"%Y-%m-%d %H:%M:%S\")\n",
    "cv2.putText(frame, text, (10,30), cv2.FONT_HERSHEY_SIMPLEX, 1, (0, 0, 255), 2, cv2.LINE_AA)"
   ]
  },
  {
   "cell_type": "code",
   "execution_count": null,
   "id": "daf5ee24",
   "metadata": {},
   "outputs": [],
   "source": [
    "# Write the frame to the output video\n",
    "out.write(frame)\n",
    "else: break"
   ]
  },
  {
   "cell_type": "code",
   "execution_count": null,
   "id": "3f878351",
   "metadata": {},
   "outputs": [],
   "source": [
    "# Display the resulting frame\n",
    "cv2.imshow('frame', frame)\n",
    "if cv2.waitKey(1) & 0xFF == ord('q'):\n",
    "        break"
   ]
  },
  {
   "cell_type": "code",
   "execution_count": null,
   "id": "6d32839c",
   "metadata": {},
   "outputs": [],
   "source": [
    "# Release the video and output objects\n",
    "video.release()\n",
    "out.release()"
   ]
  },
  {
   "cell_type": "code",
   "execution_count": null,
   "id": "697cee42",
   "metadata": {},
   "outputs": [],
   "source": [
    "# Close all Windows\n",
    "cv2.destroyAllWindows()"
   ]
  }
 ],
 "metadata": {
  "kernelspec": {
   "display_name": "Python 3 (ipykernel)",
   "language": "python",
   "name": "python3"
  },
  "language_info": {
   "codemirror_mode": {
    "name": "ipython",
    "version": 3
   },
   "file_extension": ".py",
   "mimetype": "text/x-python",
   "name": "python",
   "nbconvert_exporter": "python",
   "pygments_lexer": "ipython3",
   "version": "3.9.13"
  }
 },
 "nbformat": 4,
 "nbformat_minor": 5
}
